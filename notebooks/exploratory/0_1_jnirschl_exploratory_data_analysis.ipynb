{
  "nbformat": 4,
  "nbformat_minor": 0,
  "metadata": {
    "colab": {
      "name": "0-1_jnirschl_exploratory-data-analysis.ipynb",
      "provenance": [],
      "authorship_tag": "ABX9TyOORAF0YvzLi6lnlXmUVA8T",
      "include_colab_link": true
    },
    "kernelspec": {
      "name": "python3",
      "display_name": "Python 3"
    }
  },
  "cells": [
    {
      "cell_type": "markdown",
      "metadata": {
        "id": "view-in-github",
        "colab_type": "text"
      },
      "source": [
        "<a href=\"https://colab.research.google.com/github/jnirschl/mnist_dvc/blob/master/notebooks/exploratory/0_1_jnirschl_exploratory_data_analysis.ipynb\" target=\"_parent\"><img src=\"https://colab.research.google.com/assets/colab-badge.svg\" alt=\"Open In Colab\"/></a>"
      ]
    },
    {
      "cell_type": "code",
      "metadata": {
        "id": "1NDb1o9jmz_j",
        "outputId": "5b610657-d6da-4a87-ed9e-d130e9a38a3e",
        "colab": {
          "base_uri": "https://localhost:8080/"
        }
      },
      "source": [
        "# import and connect to gdrive\n",
        "import os, sys\n",
        "from google.colab import drive\n",
        "drive.mount('/content/mnt')"
      ],
      "execution_count": 14,
      "outputs": [
        {
          "output_type": "stream",
          "text": [
            "Drive already mounted at /content/mnt; to attempt to forcibly remount, call drive.mount(\"/content/mnt\", force_remount=True).\n"
          ],
          "name": "stdout"
        }
      ]
    },
    {
      "cell_type": "code",
      "metadata": {
        "id": "KJ1BWTNkqmiK"
      },
      "source": [
        "# set path vars\n",
        "nb_path = '/content/notebooks'\n",
        "py_pkg_dvc = \"/content/mnt/My Drive/Colab Notebooks/py_packages/dvc\"\n",
        "\n",
        "# create symlink to link verbose source to dest 'nb_path'\n",
        "if not os.path.exists('/content/notebooks'):\n",
        "  os.symlink('/content/mnt/My Drive/Colab Notebooks', nb_path)\n",
        "\n",
        "\n",
        "# add to path\n",
        "sys.path.insert(0, nb_path)\n",
        "sys.path.insert(1, py_pkg_dvc)"
      ],
      "execution_count": 15,
      "outputs": []
    },
    {
      "cell_type": "code",
      "metadata": {
        "id": "GqGsvMm_p8cD"
      },
      "source": [
        "# Install only once.\n",
        "#!pip install --target=\"/content/mnt/My Drive/Colab Notebooks/py_packages/dvc\" 'dvc[gdrive]'"
      ],
      "execution_count": 17,
      "outputs": []
    },
    {
      "cell_type": "code",
      "metadata": {
        "id": "CgXSJ-PQp-OP"
      },
      "source": [
        "# imports\n",
        "import os\n",
        "import numpy as np\n",
        "import pandas as pd\n",
        "import cv2\n",
        "import dvc.api"
      ],
      "execution_count": 19,
      "outputs": []
    },
    {
      "cell_type": "code",
      "metadata": {
        "id": "B98UN7rr6F0H"
      },
      "source": [
        "# set vars for dvc api\n",
        "data_path = 'data/raw/train.csv'\n",
        "repo = \"https://github.com/jnirschl/mnist_dvc.git\"\n",
        "\n",
        "# read train data from dvc remote\n",
        "with dvc.api.open(\n",
        "    data_path,\n",
        "    repo=repo,\n",
        "    remote=\"gdrive\"\n",
        "    ) as file:\n",
        "    train_data = pd.read_csv(file)"
      ],
      "execution_count": 22,
      "outputs": []
    },
    {
      "cell_type": "code",
      "metadata": {
        "id": "mHgJXOxZB9kN",
        "outputId": "4415acf1-148e-4ee8-9952-7972571232f9",
        "colab": {
          "base_uri": "https://localhost:8080/"
        }
      },
      "source": [
        "# pop target class and get info\n",
        "target = pd.DataFrame(train_data.pop(\"label\"))\n",
        "target.info()"
      ],
      "execution_count": 41,
      "outputs": [
        {
          "output_type": "stream",
          "text": [
            "<class 'pandas.core.frame.DataFrame'>\n",
            "RangeIndex: 42000 entries, 0 to 41999\n",
            "Data columns (total 1 columns):\n",
            " #   Column  Non-Null Count  Dtype\n",
            "---  ------  --------------  -----\n",
            " 0   label   42000 non-null  int64\n",
            "dtypes: int64(1)\n",
            "memory usage: 328.2 KB\n"
          ],
          "name": "stdout"
        }
      ]
    },
    {
      "cell_type": "code",
      "metadata": {
        "id": "lKPjKUBmCTQZ",
        "outputId": "4de15822-5661-476d-c42c-0af4e87aabe1",
        "colab": {
          "base_uri": "https://localhost:8080/"
        }
      },
      "source": [
        "# general dataframe overview\n",
        "train_data.info()"
      ],
      "execution_count": 40,
      "outputs": [
        {
          "output_type": "stream",
          "text": [
            "<class 'pandas.core.frame.DataFrame'>\n",
            "RangeIndex: 42000 entries, 0 to 41999\n",
            "Columns: 784 entries, pixel0 to pixel783\n",
            "dtypes: int64(784)\n",
            "memory usage: 251.2 MB\n"
          ],
          "name": "stdout"
        }
      ]
    },
    {
      "cell_type": "code",
      "metadata": {
        "id": "S_zaw-4DCiO7",
        "outputId": "b23984b6-107d-491d-a214-faf13e5ca2e3",
        "colab": {
          "base_uri": "https://localhost:8080/",
          "height": 45
        }
      },
      "source": [
        "# show image\n",
        "from google.colab.patches import cv2_imshow\n",
        "\n",
        "test_img = np.reshape(train_data.iloc[0].to_numpy(), (28,28))\n",
        "cv2_imshow(test_img)"
      ],
      "execution_count": 46,
      "outputs": [
        {
          "output_type": "display_data",
          "data": {
            "image/png": "[encoded data removed]",
            "text/plain": [
              "<PIL.Image.Image image mode=L size=28x28 at 0x7FB831B420F0>"
            ]
          },
          "metadata": {
            "tags": []
          }
        }
      ]
    },
    {
      "cell_type": "code",
      "metadata": {
        "id": "WBvHoFP5GfpL",
        "outputId": "1c3572d7-ca6a-438e-8ec1-675ab3e5e254",
        "colab": {
          "base_uri": "https://localhost:8080/"
        }
      },
      "source": [
        "test_img.shape"
      ],
      "execution_count": 56,
      "outputs": [
        {
          "output_type": "execute_result",
          "data": {
            "text/plain": [
              "(28, 28)"
            ]
          },
          "metadata": {
            "tags": []
          },
          "execution_count": 56
        }
      ]
    },
    {
      "cell_type": "code",
      "metadata": {
        "id": "Spbr4LUHDp8i"
      },
      "source": [
        "# helper function to compute mean image\n",
        "def compute_mean(np_array):\n",
        "  \"\"\"Accept images as numpy array with images separated by rows\n",
        "  and columns indicating pixel values\"\"\"\n",
        "  # pre-allocate mean_img\n",
        "  mean_img = np.zeros((28,28,1), dtype=np.float32)\n",
        "\n",
        "  # process \n",
        "  for file_count, idx in enumerate(range(0, np_array.shape[0])):\n",
        "    temp_img = np.reshape(train_data.iloc[idx].to_numpy(), (28,28,1)).astype(dtype=np.float32)\n",
        "    mean_img = cv2.accumulate(temp_img, mean_img)\n",
        "\n",
        "    if file_count % 10000 == 0:\n",
        "      print(f'Processed {file_count:0d} images.\\n')\n",
        "\n",
        "  # divide by n_images\n",
        "  mean_img = np.divide(mean_img, file_count+1)\n",
        "\n",
        "  return mean_img\n"
      ],
      "execution_count": 77,
      "outputs": []
    },
    {
      "cell_type": "code",
      "metadata": {
        "id": "F2soGpONFfay",
        "outputId": "57855e05-cd45-42d2-fc45-0ad844f0964f",
        "colab": {
          "base_uri": "https://localhost:8080/"
        }
      },
      "source": [
        "mean_img = compute_mean(train_data)"
      ],
      "execution_count": 78,
      "outputs": [
        {
          "output_type": "stream",
          "text": [
            "Processed 0 images.\n",
            "\n",
            "Processed 10000 images.\n",
            "\n",
            "Processed 20000 images.\n",
            "\n",
            "Processed 30000 images.\n",
            "\n",
            "Processed 40000 images.\n",
            "\n",
            "41999\n"
          ],
          "name": "stdout"
        }
      ]
    },
    {
      "cell_type": "code",
      "metadata": {
        "id": "U39gOknhI_ht",
        "outputId": "6d273967-c34f-46c3-d843-5c13185f2a63",
        "colab": {
          "base_uri": "https://localhost:8080/"
        }
      },
      "source": [
        "np.mean(mean_img)"
      ],
      "execution_count": 82,
      "outputs": [
        {
          "output_type": "execute_result",
          "data": {
            "text/plain": [
              "33.40891"
            ]
          },
          "metadata": {
            "tags": []
          },
          "execution_count": 82
        }
      ]
    }
  ]
}