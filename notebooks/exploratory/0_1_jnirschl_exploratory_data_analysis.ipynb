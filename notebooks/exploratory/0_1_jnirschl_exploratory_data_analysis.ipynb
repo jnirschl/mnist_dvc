{
  "nbformat": 4,
  "nbformat_minor": 0,
  "metadata": {
    "colab": {
      "name": "0-1_jnirschl_exploratory-data-analysis.ipynb",
      "provenance": [],
      "authorship_tag": "ABX9TyNJ5WmZltH+wSWUTCy5/oMK",
      "include_colab_link": true
    },
    "kernelspec": {
      "name": "python3",
      "display_name": "Python 3"
    }
  },
  "cells": [
    {
      "cell_type": "markdown",
      "metadata": {
        "id": "view-in-github",
        "colab_type": "text"
      },
      "source": [
        "<a href=\"https://colab.research.google.com/github/jnirschl/mnist_dvc/blob/master/notebooks/exploratory/0_1_jnirschl_exploratory_data_analysis.ipynb\" target=\"_parent\"><img src=\"https://colab.research.google.com/assets/colab-badge.svg\" alt=\"Open In Colab\"/></a>"
      ]
    },
    {
      "cell_type": "code",
      "metadata": {
        "id": "1NDb1o9jmz_j",
        "colab": {
          "base_uri": "https://localhost:8080/"
        },
        "outputId": "327dd950-6a97-45dc-f9be-bdb39f5dad2a"
      },
      "source": [
        "# import and connect to gdrive\n",
        "import os, sys\n",
        "from google.colab import drive\n",
        "drive.mount('/content/mnt')"
      ],
      "execution_count": 1,
      "outputs": [
        {
          "output_type": "stream",
          "text": [
            "Drive already mounted at /content/mnt; to attempt to forcibly remount, call drive.mount(\"/content/mnt\", force_remount=True).\n"
          ],
          "name": "stdout"
        }
      ]
    },
    {
      "cell_type": "code",
      "metadata": {
        "id": "KJ1BWTNkqmiK"
      },
      "source": [
        "# set path vars\n",
        "nb_path = '/content/notebooks'\n",
        "py_pkg_dvc = \"/content/mnt/My Drive/Colab Notebooks/py_packages/dvc\"\n",
        "\n",
        "# create symlink to link verbose source to dest 'nb_path'\n",
        "if not os.path.exists('/content/notebooks'):\n",
        "  os.symlink('/content/mnt/My Drive/Colab Notebooks', nb_path)\n",
        "\n",
        "\n",
        "# add to path\n",
        "sys.path.insert(0, nb_path)\n",
        "sys.path.insert(1, py_pkg_dvc)"
      ],
      "execution_count": 2,
      "outputs": []
    },
    {
      "cell_type": "code",
      "metadata": {
        "id": "GqGsvMm_p8cD"
      },
      "source": [
        "# Install only once.\n",
        "#!pip install --upgrade --target=\"/content/mnt/My Drive/Colab Notebooks/py_packages/dvc\" 'dvc[gdrive]'"
      ],
      "execution_count": 3,
      "outputs": []
    },
    {
      "cell_type": "code",
      "metadata": {
        "id": "CgXSJ-PQp-OP"
      },
      "source": [
        "# imports\n",
        "import os\n",
        "import numpy as np\n",
        "import pandas as pd\n",
        "import cv2\n",
        "import dvc.api"
      ],
      "execution_count": 4,
      "outputs": []
    },
    {
      "cell_type": "code",
      "metadata": {
        "id": "B98UN7rr6F0H",
        "colab": {
          "base_uri": "https://localhost:8080/"
        },
        "outputId": "7557730c-acfa-4bb8-da8f-0a3fdfc2827d"
      },
      "source": [
        "# set vars for dvc api\n",
        "data_path = 'data/raw/train.csv'\n",
        "repo = \"https://github.com/jnirschl/mnist_dvc.git\"\n",
        "\n",
        "# read train data from dvc remote\n",
        "with dvc.api.open(\n",
        "    data_path,\n",
        "    repo=repo,\n",
        "    remote=\"gdrive\"\n",
        "    ) as file:\n",
        "    train_data = pd.read_csv(file)"
      ],
      "execution_count": 5,
      "outputs": [
        {
          "output_type": "stream",
          "text": [
            "/content/mnt/My Drive/Colab Notebooks/py_packages/dvc/oauth2client/_helpers.py:255: UserWarning: Cannot access /tmp/tmpbavh48vqdvc-clone/.dvc/tmp/gdrive-user-credentials.json: No such file or directory\n",
            "  warnings.warn(_MISSING_FILE_MESSAGE.format(filename))\n"
          ],
          "name": "stderr"
        },
        {
          "output_type": "stream",
          "text": [
            "Go to the following link in your browser:\n",
            "\n",
            "    https://accounts.google.com/o/oauth2/auth?client_id=710796635688-iivsgbgsb6uv1fap6635dhvuei09o66c.apps.googleusercontent.com&redirect_uri=urn%3Aietf%3Awg%3Aoauth%3A2.0%3Aoob&scope=https%3A%2F%2Fwww.googleapis.com%2Fauth%2Fdrive+https%3A%2F%2Fwww.googleapis.com%2Fauth%2Fdrive.appdata&access_type=offline&response_type=code&approval_prompt=force\n",
            "\n",
            "Enter verification code: 4/1AY0e-g6-bIIimx1uAdm02tHEj_iOMcLljVUxdZU9M9q6e0UNYNaKK6ArspA\n",
            "Authentication successful.\n"
          ],
          "name": "stdout"
        }
      ]
    },
    {
      "cell_type": "code",
      "metadata": {
        "id": "mHgJXOxZB9kN",
        "colab": {
          "base_uri": "https://localhost:8080/"
        },
        "outputId": "27cdce79-d81d-4787-8754-bb4a78abc1af"
      },
      "source": [
        "# pop target class and get info\n",
        "target = pd.DataFrame(train_data.pop(\"label\"))\n",
        "target.info()"
      ],
      "execution_count": 6,
      "outputs": [
        {
          "output_type": "stream",
          "text": [
            "<class 'pandas.core.frame.DataFrame'>\n",
            "RangeIndex: 42000 entries, 0 to 41999\n",
            "Data columns (total 1 columns):\n",
            " #   Column  Non-Null Count  Dtype\n",
            "---  ------  --------------  -----\n",
            " 0   label   42000 non-null  int64\n",
            "dtypes: int64(1)\n",
            "memory usage: 328.2 KB\n"
          ],
          "name": "stdout"
        }
      ]
    },
    {
      "cell_type": "code",
      "metadata": {
        "id": "lKPjKUBmCTQZ",
        "colab": {
          "base_uri": "https://localhost:8080/"
        },
        "outputId": "806e0d70-be22-4c56-82ac-ddef7c852562"
      },
      "source": [
        "# general dataframe overview\n",
        "train_data.info()"
      ],
      "execution_count": 7,
      "outputs": [
        {
          "output_type": "stream",
          "text": [
            "<class 'pandas.core.frame.DataFrame'>\n",
            "RangeIndex: 42000 entries, 0 to 41999\n",
            "Columns: 784 entries, pixel0 to pixel783\n",
            "dtypes: int64(784)\n",
            "memory usage: 251.2 MB\n"
          ],
          "name": "stdout"
        }
      ]
    },
    {
      "cell_type": "code",
      "metadata": {
        "id": "S_zaw-4DCiO7",
        "colab": {
          "base_uri": "https://localhost:8080/",
          "height": 45
        },
        "outputId": "5419bcd6-de65-45a7-df46-3af411739265"
      },
      "source": [
        "# show image\n",
        "from google.colab.patches import cv2_imshow\n",
        "\n",
        "test_img = np.reshape(train_data.iloc[0].to_numpy(), (28,28))\n",
        "cv2_imshow(test_img)"
      ],
      "execution_count": 8,
      "outputs": [
        {
          "output_type": "display_data",
          "data": {
            "image/png": "[encoded data removed]",
            "text/plain": [
              "<PIL.Image.Image image mode=L size=28x28 at 0x7F6C2B4C8A50>"
            ]
          },
          "metadata": {
            "tags": []
          }
        }
      ]
    },
    {
      "cell_type": "code",
      "metadata": {
        "id": "WBvHoFP5GfpL",
        "colab": {
          "base_uri": "https://localhost:8080/"
        },
        "outputId": "104a5ebc-b65e-48b5-cbe1-03fc4bde36af"
      },
      "source": [
        "test_img.shape"
      ],
      "execution_count": 9,
      "outputs": [
        {
          "output_type": "execute_result",
          "data": {
            "text/plain": [
              "(28, 28)"
            ]
          },
          "metadata": {
            "tags": []
          },
          "execution_count": 9
        }
      ]
    },
    {
      "cell_type": "code",
      "metadata": {
        "id": "Spbr4LUHDp8i"
      },
      "source": [
        "# helper function to compute mean image\n",
        "def compute_mean(np_array):\n",
        "  \"\"\"Accept images as numpy array with images separated by rows\n",
        "  and columns indicating pixel values\"\"\"\n",
        "  # pre-allocate mean_img\n",
        "  mean_img = np.zeros((28,28,1), dtype=np.float32)\n",
        "\n",
        "  # process \n",
        "  for file_count, idx in enumerate(range(0, np_array.shape[0])):\n",
        "    temp_img = np.reshape(train_data.iloc[idx].to_numpy(), (28,28,1)).astype(dtype=np.float32)\n",
        "    mean_img = cv2.accumulate(temp_img, mean_img)\n",
        "\n",
        "    if file_count % 10000 == 0:\n",
        "      print(f'Processed {file_count:0d} images.\\n')\n",
        "\n",
        "  # divide by n_images\n",
        "  mean_img = np.divide(mean_img, file_count+1)\n",
        "\n",
        "  return mean_img\n"
      ],
      "execution_count": 10,
      "outputs": []
    },
    {
      "cell_type": "code",
      "metadata": {
        "id": "F2soGpONFfay",
        "colab": {
          "base_uri": "https://localhost:8080/"
        },
        "outputId": "57855e05-cd45-42d2-fc45-0ad844f0964f"
      },
      "source": [
        "mean_img = compute_mean(train_data)"
      ],
      "execution_count": null,
      "outputs": [
        {
          "output_type": "stream",
          "text": [
            "Processed 0 images.\n",
            "\n",
            "Processed 10000 images.\n",
            "\n",
            "Processed 20000 images.\n",
            "\n",
            "Processed 30000 images.\n",
            "\n",
            "Processed 40000 images.\n",
            "\n",
            "41999\n"
          ],
          "name": "stdout"
        }
      ]
    },
    {
      "cell_type": "code",
      "metadata": {
        "id": "U39gOknhI_ht",
        "colab": {
          "base_uri": "https://localhost:8080/"
        },
        "outputId": "6d273967-c34f-46c3-d843-5c13185f2a63"
      },
      "source": [
        "np.mean(mean_img)"
      ],
      "execution_count": null,
      "outputs": [
        {
          "output_type": "execute_result",
          "data": {
            "text/plain": [
              "33.40891"
            ]
          },
          "metadata": {
            "tags": []
          },
          "execution_count": 82
        }
      ]
    }
  ]
}